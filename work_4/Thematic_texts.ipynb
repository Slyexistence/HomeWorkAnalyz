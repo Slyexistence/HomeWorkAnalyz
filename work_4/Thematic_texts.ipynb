{
 "cells": [
  {
   "cell_type": "markdown",
   "metadata": {},
   "source": [
    "Часть А"
   ]
  },
  {
   "cell_type": "code",
   "execution_count": 14,
   "metadata": {},
   "outputs": [
    {
     "name": "stdout",
     "output_type": "stream",
     "text": [
      "['C:\\\\Users\\\\Slyexistence/nltk_data', 'c:\\\\Users\\\\Slyexistence\\\\AppData\\\\Local\\\\Programs\\\\Python\\\\Python312\\\\nltk_data', 'c:\\\\Users\\\\Slyexistence\\\\AppData\\\\Local\\\\Programs\\\\Python\\\\Python312\\\\share\\\\nltk_data', 'c:\\\\Users\\\\Slyexistence\\\\AppData\\\\Local\\\\Programs\\\\Python\\\\Python312\\\\lib\\\\nltk_data', 'C:\\\\Users\\\\Slyexistence\\\\AppData\\\\Roaming\\\\nltk_data', 'C:\\\\nltk_data', 'D:\\\\nltk_data', 'E:\\\\nltk_data', 'C:/nltk_data', 'C:/nltk_data', 'C:/Users/Slyexistence/nltk_data', 'C:/Users/Slyexistence/nltk_data']\n",
      "['Пример', 'текста', 'для', 'проверки', 'токенизации']\n"
     ]
    },
    {
     "name": "stderr",
     "output_type": "stream",
     "text": [
      "[nltk_data] Downloading package punkt to\n",
      "[nltk_data]     C:/Users/Slyexistence/AppData/Roaming/nltk_data...\n",
      "[nltk_data]   Package punkt is already up-to-date!\n",
      "[nltk_data] Downloading package stopwords to\n",
      "[nltk_data]     C:/Users/Slyexistence/AppData/Roaming/nltk_data...\n",
      "[nltk_data]   Package stopwords is already up-to-date!\n"
     ]
    }
   ],
   "source": [
    "import nltk\n",
    "print(nltk.data.path)\n",
    "\n",
    "# Добавляем путь к папке nltk_data, если он отличается\n",
    "nltk.data.path.append('C:/Users/Slyexistence/nltk_data')\n",
    "nltk.download('punkt', download_dir='C:/Users/Slyexistence/AppData/Roaming/nltk_data')\n",
    "nltk.download('stopwords', download_dir='C:/Users/Slyexistence/AppData/Roaming/nltk_data')\n",
    "\n",
    "from nltk.tokenize import word_tokenize\n",
    "\n",
    "from nltk.tokenize import RegexpTokenizer\n",
    "\n",
    "tokenizer = RegexpTokenizer(r'\\w+')\n",
    "tokens = tokenizer.tokenize(\"Пример текста для проверки токенизации\")\n",
    "print(tokens)"
   ]
  },
  {
   "cell_type": "code",
   "execution_count": 15,
   "metadata": {},
   "outputs": [
    {
     "name": "stderr",
     "output_type": "stream",
     "text": [
      "[nltk_data] Downloading package stopwords to\n",
      "[nltk_data]     C:\\Users\\Slyexistence\\AppData\\Roaming\\nltk_data...\n",
      "[nltk_data]   Package stopwords is already up-to-date!\n"
     ]
    }
   ],
   "source": [
    "import pandas as pd\n",
    "from nltk.corpus import stopwords\n",
    "from nltk.tokenize import RegexpTokenizer\n",
    "import re\n",
    "import nltk\n",
    "\n",
    "\n",
    "data = pd.read_csv(\"D:/ВУЗ/Атаева/Домашняя Работа/HomeWorkAnalyz/work_1/habr_articles.csv\")\n",
    "\n",
    "# Удаляем пустые значения из текстовой колонки\n",
    "documents = data['Текст'].dropna().tolist()\n",
    "\n",
    "# Загрузка стоп-слов\n",
    "nltk.download('stopwords')\n",
    "stop_words = set(stopwords.words('russian'))\n",
    "\n",
    "# Используем RegexpTokenizer вместо word_tokenize\n",
    "tokenizer = RegexpTokenizer(r'\\w+')\n",
    "\n",
    "def preprocess_text(text):\n",
    "    # Удаляем спецсимволы и приводим текст к нижнему регистру\n",
    "    text = re.sub(r'[^\\w\\s]', '', text.lower())\n",
    "    # Токенизация\n",
    "    tokens = tokenizer.tokenize(text)\n",
    "    # Удаляем стоп-слова\n",
    "    tokens = [word for word in tokens if word not in stop_words]\n",
    "    return ' '.join(tokens)\n",
    "\n",
    "# Преобразуем все тексты\n",
    "processed_docs = [preprocess_text(doc) for doc in documents]\n"
   ]
  },
  {
   "cell_type": "code",
   "execution_count": null,
   "metadata": {},
   "outputs": [
    {
     "name": "stdout",
     "output_type": "stream",
     "text": [
      "Темы, найденные LDA:\n",
      "Тема 1: ['linux', 'разработки', 'сегодня', 'разработчик', 'данных', 'таких', 'хабр', 'зовут', 'это', 'привет']\n",
      "Тема 2: ['также', 'управления', 'разработки', 'системы', 'это', 'данной', 'недавно', 'эта', 'статья', 'статье']\n",
      "Тема 3: ['python', 'назад', 'программирования', 'работы', 'статью', 'лет', 'пользователь', 'сделать', 'который', 'это']\n",
      "Тема 4: ['безопасности', 'также', 'могут', 'очень', 'время', 'пользователей', 'поэтому', 'которые', 'данных', 'это']\n",
      "Тема 5: ['зовут', 'поделиться', 'хочу', 'вами', 'расскажу', 'статье', 'всем', 'сегодня', 'хабр', 'привет']\n",
      "\n",
      "Темы, найденные LSA:\n",
      "Тема 1: ['данных', 'расскажу', 'компании', 'сегодня', 'статье', 'это', 'зовут', 'всем', 'хабр', 'привет']\n",
      "Тема 2: ['сегодня', 'каждый', 'которая', 'который', 'которые', 'например', 'статье', 'данных', 'это', 'пользователь']\n",
      "Тема 3: ['статья', 'лет', 'время', 'работы', 'также', 'который', 'которые', 'статье', 'данных', 'это']\n",
      "Тема 4: ['которых', 'расскажу', 'помощью', 'часть', 'статье', 'разработчик', 'компании', 'привет', 'зовут', 'всем']\n",
      "Тема 5: ['рассказать', 'сегодня', 'данной', 'эта', 'рассмотрим', 'которые', 'расскажу', 'помощью', 'статья', 'статье']\n",
      "\n",
      "Темы, найденные NMF:\n",
      "Тема 1: ['сервисов', 'занимаюсь', 'расскажу', 'python', 'связи', 'мтс', 'сегодня', 'зовут', 'привет', 'хабр']\n",
      "Тема 2: ['должны', 'сегодня', 'почему', 'стали', 'практически', 'которая', 'одна', 'каждый', 'например', 'пользователь']\n",
      "Тема 3: ['просто', 'поэтому', 'компании', 'всё', 'время', 'лет', 'работы', 'который', 'данных', 'это']\n",
      "Тема 4: ['александр', 'команде', 'года', 'связи', 'часть', 'разработчик', 'компании', 'зовут', 'привет', 'всем']\n",
      "Тема 5: ['статьи', 'эта', 'сегодня', 'также', 'рассмотрим', 'помощью', 'которые', 'расскажу', 'статья', 'статье']\n"
     ]
    },
    {
     "name": "stderr",
     "output_type": "stream",
     "text": [
      "c:\\Users\\Slyexistence\\AppData\\Local\\Programs\\Python\\Python312\\Lib\\site-packages\\sklearn\\decomposition\\_nmf.py:1759: ConvergenceWarning: Maximum number of iterations 200 reached. Increase it to improve convergence.\n",
      "  warnings.warn(\n"
     ]
    }
   ],
   "source": [
    "from sklearn.feature_extraction.text import CountVectorizer, TfidfVectorizer\n",
    "from sklearn.decomposition import LatentDirichletAllocation, TruncatedSVD, NMF\n",
    "\n",
    "vectorizer = CountVectorizer(max_df=0.9, min_df=10)\n",
    "dtm = vectorizer.fit_transform(processed_docs)\n",
    "\n",
    "\n",
    "lda = LatentDirichletAllocation(n_components=5, random_state=42)\n",
    "lda.fit(dtm)\n",
    "\n",
    "print(\"Темы, найденные LDA:\")\n",
    "for idx, topic in enumerate(lda.components_):\n",
    "    print(f\"Тема {idx + 1}: {[vectorizer.get_feature_names_out()[i] for i in topic.argsort()[-10:]]}\")\n",
    "\n",
    "tfidf_vectorizer = TfidfVectorizer(max_df=0.9, min_df=10)\n",
    "tfidf_matrix = tfidf_vectorizer.fit_transform(processed_docs)\n",
    "\n",
    "lsa = TruncatedSVD(n_components=5, random_state=42)\n",
    "lsa.fit(tfidf_matrix)\n",
    "\n",
    "print(\"\\nТемы, найденные LSA:\")\n",
    "for idx, topic in enumerate(lsa.components_):\n",
    "    print(f\"Тема {idx + 1}: {[tfidf_vectorizer.get_feature_names_out()[i] for i in topic.argsort()[-10:]]}\")\n",
    "\n",
    "nmf = NMF(n_components=5, random_state=42)\n",
    "nmf.fit(tfidf_matrix)\n",
    "\n",
    "print(\"\\nТемы, найденные NMF:\")\n",
    "for idx, topic in enumerate(nmf.components_):\n",
    "    print(f\"Тема {idx + 1}: {[tfidf_vectorizer.get_feature_names_out()[i] for i in topic.argsort()[-10:]]}\")\n"
   ]
  }
 ],
 "metadata": {
  "kernelspec": {
   "display_name": "Python 3",
   "language": "python",
   "name": "python3"
  },
  "language_info": {
   "codemirror_mode": {
    "name": "ipython",
    "version": 3
   },
   "file_extension": ".py",
   "mimetype": "text/x-python",
   "name": "python",
   "nbconvert_exporter": "python",
   "pygments_lexer": "ipython3",
   "version": "3.12.4"
  }
 },
 "nbformat": 4,
 "nbformat_minor": 2
}
